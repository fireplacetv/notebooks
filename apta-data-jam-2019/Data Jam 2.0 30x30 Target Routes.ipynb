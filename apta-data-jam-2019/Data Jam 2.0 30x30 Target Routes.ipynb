{
 "cells": [
  {
   "cell_type": "markdown",
   "metadata": {},
   "source": [
    "# prep work"
   ]
  },
  {
   "cell_type": "code",
   "execution_count": null,
   "metadata": {
    "collapsed": true
   },
   "outputs": [],
   "source": [
    "import pandas as pd\n",
    "from matplotlib import pyplot as plt\n",
    "import altair as alt\n",
    "import datetime as dt"
   ]
  },
  {
   "cell_type": "code",
   "execution_count": null,
   "metadata": {
    "collapsed": true
   },
   "outputs": [],
   "source": [
    "routes = pd.read_csv('data/routes.txt.csv')\n",
    "stop_times = pd.read_csv('data/stop_times.txt.csv')\n",
    "trips = pd.read_csv('data/trips.txt.csv')\n",
    "stops = pd.read_csv('data/stops.txt.csv')"
   ]
  },
  {
   "cell_type": "markdown",
   "metadata": {},
   "source": [
    "# Create Bus Trips DF"
   ]
  },
  {
   "cell_type": "code",
   "execution_count": null,
   "metadata": {},
   "outputs": [],
   "source": [
    "idx = routes.index[routes['route_type']==3]\n",
    "route_columns = ['route_id','route_long_name','route_short_name']\n",
    "bus_routes = routes.loc[idx, route_columns].copy()\n",
    "\n",
    "trip_columns = ['trip_id','original_trip_id','route_id','direction_id','trip_headsign']\n",
    "\n",
    "bus_trips = pd.merge(trips.loc[:,trip_columns],\n",
    "                     bus_routes,\n",
    "                     how='right',\n",
    "                     on='route_id')"
   ]
  },
  {
   "cell_type": "markdown",
   "metadata": {},
   "source": [
    "# merge start and stop times"
   ]
  },
  {
   "cell_type": "code",
   "execution_count": null,
   "metadata": {
    "collapsed": true
   },
   "outputs": [],
   "source": [
    "# get last stop\n",
    "# (separating this out because it takes a long time to run)\n",
    "max_stop_sequence = stop_times.groupby('trip_id').max()['stop_sequence'].reset_index()\n",
    "max_stop_sequence.rename(index=str,columns={'stop_sequence':'stop_count'}, inplace=True)"
   ]
  },
  {
   "cell_type": "code",
   "execution_count": null,
   "metadata": {
    "collapsed": true
   },
   "outputs": [],
   "source": [
    "# start time\n",
    "first_stop_cols = ['trip_id','departure_time']\n",
    "first_stop_idx = stop_times.index[stop_times['stop_sequence']==1]\n",
    "route_start_times = stop_times.loc[first_stop_idx, first_stop_cols].copy()\n",
    "\n",
    "# end time\n",
    "last_stop_cols = ['trip_id','stop_sequence','arrival_time']\n",
    "route_end_times = pd.merge(max_stop_sequence,\n",
    "                           stop_times.loc[:, last_stop_cols],\n",
    "                           how='left',\n",
    "                           left_on=['trip_id','stop_count'],\n",
    "                           right_on=['trip_id','stop_sequence'])\n",
    "\n",
    "# calculate duration\n",
    "route_endpoints = pd.merge(route_start_times,\n",
    "                           route_end_times,\n",
    "                           on='trip_id')\n",
    "route_endpoints['departure_add_day'] = route_endpoints['departure_time'].apply(lambda t: int(t[:2])>=24)*1\n",
    "route_endpoints['arrival_add_day'] = route_endpoints['arrival_time'].apply(lambda t: int(t[:2])>=24)*1\n",
    "\n",
    "def clean_time_string(s):\n",
    "    s_fixed = ('%02d' % (int(s[:2]) % 24)) + s[2:]\n",
    "    return s_fixed\n",
    "\n",
    "route_endpoints['arrival_time'] = pd.to_datetime(route_endpoints['arrival_time'].apply(lambda s: clean_time_string(s)), format='%H:%M:%S', errors='coerce')\n",
    "route_endpoints['departure_time'] = pd.to_datetime(route_endpoints['departure_time'].apply(lambda s: clean_time_string(s)), format='%H:%M:%S', errors='coerce')\n",
    "\n",
    "route_endpoints['duration'] = (((route_endpoints['arrival_time']-route_endpoints['departure_time']).dt.total_seconds() / 60) \n",
    "                               + 1440*(route_endpoints['arrival_add_day'] - route_endpoints['departure_add_day']))\n",
    "\n",
    "# merge\n",
    "endpoint_cols = ['trip_id','departure_time','arrival_time','stop_count','duration']\n",
    "trips_w_duration = pd.merge(bus_trips,\n",
    "                            route_endpoints.loc[:,endpoint_cols],\n",
    "                            how='left',\n",
    "                            on='trip_id')"
   ]
  },
  {
   "cell_type": "markdown",
   "metadata": {},
   "source": [
    "# Explore"
   ]
  },
  {
   "cell_type": "code",
   "execution_count": null,
   "metadata": {},
   "outputs": [],
   "source": [
    "cols=['stop_count','duration']\n",
    "pd.merge(trips_w_duration.groupby('route_short_name')[cols].min().reset_index(),\n",
    "         trips_w_duration.groupby('route_short_name')[cols].max().reset_index(),\n",
    "         on='route_short_name',\n",
    "         suffixes=['_min','_max'])"
   ]
  },
  {
   "cell_type": "code",
   "execution_count": null,
   "metadata": {
    "scrolled": true
   },
   "outputs": [],
   "source": [
    "plt.scatter(trips_w_duration['stop_count'],\n",
    "            trips_w_duration['duration'])\n",
    "plt.show()"
   ]
  },
  {
   "cell_type": "code",
   "execution_count": null,
   "metadata": {
    "collapsed": true
   },
   "outputs": [],
   "source": [
    "'''alt.Chart(trips_w_duration).mark_boxplot(extent='min-max').encode(\n",
    "    x='route_short_name:O',\n",
    "    y='duration:Q'\n",
    ")'''"
   ]
  },
  {
   "cell_type": "code",
   "execution_count": null,
   "metadata": {},
   "outputs": [],
   "source": [
    "# all trips\n",
    "trips_w_duration.groupby('route_short_name')['duration'].describe()['75%'].hist()\n",
    "plt.show()\n",
    "\n",
    "trips_w_duration.groupby('route_short_name')['duration'].describe().round(2).to_clipboard()"
   ]
  },
  {
   "cell_type": "code",
   "execution_count": null,
   "metadata": {},
   "outputs": [],
   "source": [
    "# off peak (before 8:00 am or after 8:00 pm)\n",
    "idx = trips_w_duration.index[(trips_w_duration['stop_count'] >= 20)\n",
    "                             & ((trips_w_duration['departure_time'] < dt.datetime(1900,1,1,8,0,0))\n",
    "                                | (trips_w_duration['departure_time'] > dt.datetime(1900,1,1,20,0,0)))]\n",
    "trips_w_duration.loc[idx].groupby('route_short_name')['duration'].describe()['75%'].hist()\n",
    "plt.show()\n",
    "\n",
    "trips_w_duration.loc[idx].groupby('route_short_name')['duration'].describe().round(2).to_clipboard()"
   ]
  },
  {
   "cell_type": "code",
   "execution_count": null,
   "metadata": {},
   "outputs": [],
   "source": [
    "# peak (between 8:00 am and 8:00 pm)\n",
    "idx = trips_w_duration.index[(trips_w_duration['stop_count'] >= 20)\n",
    "                             & ((trips_w_duration['departure_time'] > dt.datetime(1900,1,1,8,0,0))\n",
    "                                & (trips_w_duration['departure_time'] < dt.datetime(1900,1,1,20,0,0)))]\n",
    "trips_w_duration.loc[idx].groupby('route_short_name')['duration'].describe()['75%'].hist()\n",
    "plt.show()\n",
    "\n",
    "trips_w_duration.loc[idx].groupby('route_short_name')['duration'].describe().round(2).to_clipboard()"
   ]
  },
  {
   "cell_type": "code",
   "execution_count": null,
   "metadata": {},
   "outputs": [],
   "source": [
    "['1','14','14R','14X','19','1AX','1BX','23','24','28','28R','29','31','31AX','31BX','33','38','38AX','38BX','38R','43','44','48','49','5','5R','6','7','714','7X','8','8AX','8BX','9','90','91','9R']"
   ]
  },
  {
   "cell_type": "code",
   "execution_count": null,
   "metadata": {},
   "outputs": [],
   "source": [
    "# stop counts for short trips\n",
    "idx = trips_w_duration.index[(trips_w_duration['duration'] <= 30)]\n",
    "trips_w_duration.loc[idx,'stop_count'].hist()\n",
    "plt.show()\n",
    "\n",
    "# trips_w_duration.loc[idx].groupby('route_short_name')['duration'].describe().round(2).to_clipboard()\n"
   ]
  },
  {
   "cell_type": "code",
   "execution_count": null,
   "metadata": {},
   "outputs": [],
   "source": [
    "# stop counts for short trips\n",
    "idx = trips_w_duration.index[(trips_w_duration['duration'] <= 10) & (trips_w_duration['stop_count'] >= 20)]\n",
    "trips_w_duration.loc[idx].groupby('route_short_name')['stop_count'].max()\n",
    "trips_w_duration.loc[idx]\n",
    "\n",
    "trips_w_duration.loc[idx,'departure_time'].dt.strftime('%H').reset_index().groupby('departure_time').count()"
   ]
  },
  {
   "cell_type": "code",
   "execution_count": null,
   "metadata": {},
   "outputs": [],
   "source": [
    "idx = trips_w_duration.index[(trips_w_duration['duration'] >= 30) & (trips_w_duration['stop_count'] >= 20)]\n",
    "\n",
    "df = trips_w_duration.copy()\n",
    "df['departure_hour'] = df['departure_time'].dt.strftime('%H')\n",
    "pd.pivot_table(df.loc[idx],\n",
    "               index='departure_hour',\n",
    "               columns='route_short_name',\n",
    "               values='stop_count',\n",
    "               aggfunc='mean').fillna(0).round(1)"
   ]
  },
  {
   "cell_type": "code",
   "execution_count": null,
   "metadata": {},
   "outputs": [],
   "source": [
    "df.loc[idx,'trip_id'].sample(1)"
   ]
  },
  {
   "cell_type": "code",
   "execution_count": null,
   "metadata": {},
   "outputs": [],
   "source": [
    "trip_id = '8627478_merged_8749233'\n",
    "print(pd.merge(trips.loc[trips.index[trips['trip_id']==trip_id],['trip_id','route_id']],\n",
    "         routes.loc[:,['route_id','route_long_name','route_short_name','direction']],\n",
    "         how='left',\n",
    "         on='route_id').transpose())\n",
    "\n",
    "idx = stop_times.index[stop_times['trip_id']==trip_id]\n",
    "pd.merge(stop_times.loc[idx,['stop_id','stop_sequence','arrival_time','departure_time']],\n",
    "         stops.loc[:,['stop_id','stop_name']],\n",
    "         how='left',\n",
    "         on='stop_id')"
   ]
  },
  {
   "cell_type": "code",
   "execution_count": null,
   "metadata": {},
   "outputs": [],
   "source": []
  }
 ],
 "metadata": {
  "kernelspec": {
   "display_name": "Python 3",
   "language": "python",
   "name": "python3"
  },
  "language_info": {
   "codemirror_mode": {
    "name": "ipython",
    "version": 3
   },
   "file_extension": ".py",
   "mimetype": "text/x-python",
   "name": "python",
   "nbconvert_exporter": "python",
   "pygments_lexer": "ipython3",
   "version": "3.7.3"
  }
 },
 "nbformat": 4,
 "nbformat_minor": 2
}
