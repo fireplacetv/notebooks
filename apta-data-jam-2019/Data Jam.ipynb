{
 "cells": [
  {
   "cell_type": "code",
   "execution_count": null,
   "metadata": {
    "collapsed": true
   },
   "outputs": [],
   "source": [
    "import pandas as pd\n",
    "from matplotlib import pyplot as plt\n",
    "import datetime as dt"
   ]
  },
  {
   "cell_type": "code",
   "execution_count": null,
   "metadata": {
    "collapsed": true
   },
   "outputs": [],
   "source": [
    "routes = pd.read_csv('data/routes.txt.csv')\n",
    "stop_times = pd.read_csv('data/stop_times.txt.csv')\n",
    "trips = pd.read_csv('data/trips.txt.csv')\n",
    "stops = pd.read_csv('data/stops.txt.csv')"
   ]
  },
  {
   "cell_type": "code",
   "execution_count": null,
   "metadata": {
    "collapsed": true
   },
   "outputs": [],
   "source": [
    "stops_w_route = pd.merge(stop_times,\n",
    "                         trips,\n",
    "                         how='left',\n",
    "                         on='trip_id')"
   ]
  },
  {
   "cell_type": "code",
   "execution_count": null,
   "metadata": {
    "collapsed": true
   },
   "outputs": [],
   "source": [
    "last_stops = stops_w_route.groupby('trip_id')['stop_sequence'].max().reset_index()"
   ]
  },
  {
   "cell_type": "code",
   "execution_count": null,
   "metadata": {},
   "outputs": [],
   "source": [
    "last_stops.rename(index=str, columns={'stop_sequence':'last_stop'}, inplace=True)\n",
    "last_stops.head()"
   ]
  },
  {
   "cell_type": "code",
   "execution_count": null,
   "metadata": {
    "collapsed": true
   },
   "outputs": [],
   "source": [
    "stops_first_last = pd.merge(stops_w_route,\n",
    "                            last_stops,\n",
    "                            how='left',\n",
    "                            on='trip_id')\n",
    "stops_first_last['First'] = False\n",
    "stops_first_last['Last'] = False\n"
   ]
  },
  {
   "cell_type": "code",
   "execution_count": null,
   "metadata": {},
   "outputs": [],
   "source": [
    "stops_first_last.head()"
   ]
  },
  {
   "cell_type": "code",
   "execution_count": null,
   "metadata": {
    "collapsed": true
   },
   "outputs": [],
   "source": [
    "first_idx = stops_first_last.index[stops_first_last['stop_sequence']==1]\n",
    "stops_first_last.loc[first_idx,'First'] = True"
   ]
  },
  {
   "cell_type": "code",
   "execution_count": null,
   "metadata": {
    "collapsed": true
   },
   "outputs": [],
   "source": [
    "last_idx = stops_first_last.index[stops_first_last['stop_sequence']==stops_first_last['last_stop']]\n",
    "stops_first_last.loc[last_idx,'Last'] = True"
   ]
  },
  {
   "cell_type": "code",
   "execution_count": null,
   "metadata": {},
   "outputs": [],
   "source": [
    "stops_first_last.head()"
   ]
  },
  {
   "cell_type": "code",
   "execution_count": null,
   "metadata": {
    "collapsed": true
   },
   "outputs": [],
   "source": [
    "drop_idx = stops_first_last.index[(stops_first_last['First'] | stops_first_last['Last']) == False]"
   ]
  },
  {
   "cell_type": "code",
   "execution_count": null,
   "metadata": {},
   "outputs": [],
   "source": [
    "stops_first_last.drop(drop_idx, inplace=True)\n",
    "stops_first_last.head()"
   ]
  },
  {
   "cell_type": "code",
   "execution_count": null,
   "metadata": {},
   "outputs": [],
   "source": [
    "stops_first_last.groupby('trip_headsign').count()['arrival_time'].reset_index().head()"
   ]
  },
  {
   "cell_type": "code",
   "execution_count": null,
   "metadata": {
    "collapsed": true
   },
   "outputs": [],
   "source": [
    "min_arrivals = stops_first_last.groupby('trip_id').min()['arrival_time'].reset_index()\n",
    "max_arrivals = stops_first_last.groupby('trip_id').max()['arrival_time'].reset_index()"
   ]
  },
  {
   "cell_type": "code",
   "execution_count": null,
   "metadata": {},
   "outputs": [],
   "source": [
    "min_arrivals.shape"
   ]
  },
  {
   "cell_type": "code",
   "execution_count": null,
   "metadata": {},
   "outputs": [],
   "source": [
    "max_arrivals.shape"
   ]
  },
  {
   "cell_type": "code",
   "execution_count": null,
   "metadata": {
    "collapsed": true
   },
   "outputs": [],
   "source": [
    "trip_times = pd.merge(min_arrivals,\n",
    "                      max_arrivals,\n",
    "                      how='inner',\n",
    "                      on='trip_id',\n",
    "                      suffixes=['_min','_max'])\n",
    "# trip_times['duration'] = trip_times['arrival_time_max'] - trip_times['arrival_time_min']\n"
   ]
  },
  {
   "cell_type": "code",
   "execution_count": null,
   "metadata": {
    "collapsed": true
   },
   "outputs": [],
   "source": [
    "trip_times['arrival_time_max'] = pd.to_datetime(trip_times['arrival_time_max'], format='%H:%M:%S', errors='coerce')\n",
    "trip_times['arrival_time_min'] = pd.to_datetime(trip_times['arrival_time_min'], format='%H:%M:%S', errors='coerce')"
   ]
  },
  {
   "cell_type": "code",
   "execution_count": null,
   "metadata": {
    "collapsed": true
   },
   "outputs": [],
   "source": [
    "trip_times.head()\n",
    "trip_times['duration'] = (trip_times['arrival_time_max'] - trip_times['arrival_time_min']).dt.total_seconds() / 60"
   ]
  },
  {
   "cell_type": "code",
   "execution_count": null,
   "metadata": {},
   "outputs": [],
   "source": [
    "trip_times.head()"
   ]
  },
  {
   "cell_type": "code",
   "execution_count": null,
   "metadata": {},
   "outputs": [],
   "source": [
    "trips_w_duration = pd.merge(trip_times,\n",
    "                            trips.loc[:,['trip_id','route_id']],\n",
    "                            how='left',\n",
    "                            on='trip_id')\n",
    "trips_w_duration = pd.merge(trips_w_duration,\n",
    "                            routes.loc[:,['route_id','route_long_name','route_short_name','route_type']],\n",
    "                            how='left',\n",
    "                            on='route_id')\n",
    "trips_w_duration.head()"
   ]
  },
  {
   "cell_type": "code",
   "execution_count": null,
   "metadata": {},
   "outputs": [],
   "source": [
    "not_bus_idx = trips_w_duration.index[trips_w_duration['route_type']!=3]\n",
    "trips_w_duration.drop(not_bus_idx, inplace=True)\n",
    "print(trips_w_duration.shape)\n",
    "trips_w_duration.head()"
   ]
  },
  {
   "cell_type": "markdown",
   "metadata": {},
   "source": [
    "# Get Start/Stop Lat/long pairs"
   ]
  },
  {
   "cell_type": "code",
   "execution_count": null,
   "metadata": {
    "scrolled": true
   },
   "outputs": [],
   "source": [
    "routes.head()"
   ]
  },
  {
   "cell_type": "code",
   "execution_count": null,
   "metadata": {},
   "outputs": [],
   "source": [
    "stops.head()"
   ]
  },
  {
   "cell_type": "code",
   "execution_count": null,
   "metadata": {},
   "outputs": [],
   "source": [
    "stops_first_last.head()"
   ]
  },
  {
   "cell_type": "code",
   "execution_count": null,
   "metadata": {},
   "outputs": [],
   "source": [
    "first_idx = stops_first_last.index[stops_first_last['First']]\n",
    "last_idx = stops_first_last.index[stops_first_last['Last']]\n",
    "first_stops = (stops_first_last.loc[first_idx,['route_id','stop_id']]).groupby('route_id').min().reset_index()\n",
    "last_stops = (stops_first_last.loc[last_idx,['route_id','stop_id']]).groupby('route_id').min().reset_index()\n",
    "first_stops.shape"
   ]
  },
  {
   "cell_type": "code",
   "execution_count": null,
   "metadata": {
    "collapsed": true
   },
   "outputs": [],
   "source": [
    "latlongs = pd.merge(pd.merge(first_stops,\n",
    "         stops.loc[:,['stop_id','stop_lat','stop_lon']],\n",
    "         on='stop_id'),\n",
    "         pd.merge(last_stops,\n",
    "        stops.loc[:,['stop_id','stop_lat','stop_lon']],\n",
    "        on='stop_id'),\n",
    "         suffixes=['_first','_last'],\n",
    "         on='route_id')"
   ]
  },
  {
   "cell_type": "code",
   "execution_count": null,
   "metadata": {
    "collapsed": true
   },
   "outputs": [],
   "source": [
    "latlongs.to_csv('lat_longs.csv')"
   ]
  },
  {
   "cell_type": "markdown",
   "metadata": {},
   "source": [
    "# aggregate the durations"
   ]
  },
  {
   "cell_type": "code",
   "execution_count": null,
   "metadata": {},
   "outputs": [],
   "source": [
    "trips_w_duration.head()"
   ]
  },
  {
   "cell_type": "code",
   "execution_count": null,
   "metadata": {
    "collapsed": true
   },
   "outputs": [],
   "source": [
    "medians_by_route = trips_w_duration.groupby('route_short_name').median()['duration'].reset_index()"
   ]
  },
  {
   "cell_type": "code",
   "execution_count": null,
   "metadata": {
    "collapsed": true
   },
   "outputs": [],
   "source": [
    "medians_by_route.to_clipboard()"
   ]
  },
  {
   "cell_type": "markdown",
   "metadata": {},
   "source": [
    "# Throw out rush hour"
   ]
  },
  {
   "cell_type": "code",
   "execution_count": null,
   "metadata": {},
   "outputs": [],
   "source": [
    "trips_w_duration.head()"
   ]
  },
  {
   "cell_type": "code",
   "execution_count": null,
   "metadata": {
    "collapsed": true
   },
   "outputs": [],
   "source": [
    "drop_idx = trips_w_duration.index[((trips_w_duration['arrival_time_max'] < dt.datetime(1900,1,1,7,0,0)) |\n",
    "    (trips_w_duration['arrival_time_max'] > dt.datetime(1900,1,1,10,0,0)))]\n",
    "morning_rush = trips_w_duration.drop(drop_idx)\n",
    "morning_rush.groupby('route_short_name').median()['duration'].reset_index().to_clipboard()"
   ]
  },
  {
   "cell_type": "code",
   "execution_count": null,
   "metadata": {
    "collapsed": true
   },
   "outputs": [],
   "source": [
    "drop_idx = trips_w_duration.index[((trips_w_duration['arrival_time_max'] > dt.datetime(1900,1,1,6,0,0)))]\n",
    "owl = trips_w_duration.drop(drop_idx)\n",
    "owl.groupby('route_short_name').median()['duration'].reset_index().to_clipboard()\n"
   ]
  },
  {
   "cell_type": "code",
   "execution_count": null,
   "metadata": {},
   "outputs": [],
   "source": [
    "trips_w_duration.shape"
   ]
  },
  {
   "cell_type": "code",
   "execution_count": null,
   "metadata": {},
   "outputs": [],
   "source": []
  },
  {
   "cell_type": "code",
   "execution_count": null,
   "metadata": {
    "collapsed": true
   },
   "outputs": [],
   "source": []
  },
  {
   "cell_type": "code",
   "execution_count": null,
   "metadata": {
    "collapsed": true
   },
   "outputs": [],
   "source": []
  }
 ],
 "metadata": {
  "kernelspec": {
   "display_name": "Python 3",
   "language": "python",
   "name": "python3"
  },
  "language_info": {
   "codemirror_mode": {
    "name": "ipython",
    "version": 3
   },
   "file_extension": ".py",
   "mimetype": "text/x-python",
   "name": "python",
   "nbconvert_exporter": "python",
   "pygments_lexer": "ipython3",
   "version": "3.7.3"
  }
 },
 "nbformat": 4,
 "nbformat_minor": 2
}
