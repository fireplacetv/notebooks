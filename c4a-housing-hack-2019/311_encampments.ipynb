{
 "cells": [
  {
   "cell_type": "code",
   "execution_count": 73,
   "metadata": {},
   "outputs": [],
   "source": [
    "import pandas as pd\n",
    "import numpy as np\n",
    "from matplotlib import pyplot as plt\n",
    "import datetime as dt\n",
    "from sodapy import Socrata\n"
   ]
  },
  {
   "cell_type": "code",
   "execution_count": 74,
   "metadata": {},
   "outputs": [
    {
     "name": "stderr",
     "output_type": "stream",
     "text": [
      "WARNING:root:Requests made without an app_token will be subject to strict throttling limits.\n"
     ]
    },
    {
     "name": "stdout",
     "output_type": "stream",
     "text": [
      "(214222, 20)\n"
     ]
    }
   ],
   "source": [
    "client = Socrata(\"data.sfgov.org\", None)\n",
    "results = client.get(\"vw6y-z8j6\", where='service_name=\"Encampments\"', limit=250000)\n",
    "raw_df = pd.DataFrame.from_records(results)\n",
    "# raw_df.to_csv('data/311_encampments.csv')\n",
    "print(raw_df.shape)"
   ]
  },
  {
   "cell_type": "code",
   "execution_count": 96,
   "metadata": {},
   "outputs": [],
   "source": [
    "df = raw_df.copy()\n",
    "df['Month'] = pd.to_datetime(df['requested_datetime']).apply(lambda t: t.date().replace(day=1))\n",
    "df['Year'] = pd.to_datetime(df['requested_datetime']).apply(lambda t: t.date().replace(day=1, month=1))"
   ]
  },
  {
   "cell_type": "code",
   "execution_count": 152,
   "metadata": {},
   "outputs": [
    {
     "data": {
      "text/html": [
       "<div>\n",
       "<style scoped>\n",
       "    .dataframe tbody tr th:only-of-type {\n",
       "        vertical-align: middle;\n",
       "    }\n",
       "\n",
       "    .dataframe tbody tr th {\n",
       "        vertical-align: top;\n",
       "    }\n",
       "\n",
       "    .dataframe thead th {\n",
       "        text-align: right;\n",
       "    }\n",
       "</style>\n",
       "<table border=\"1\" class=\"dataframe\">\n",
       "  <thead>\n",
       "    <tr style=\"text-align: right;\">\n",
       "      <th></th>\n",
       "      <th>address</th>\n",
       "      <th>agency_responsible</th>\n",
       "      <th>closed_date</th>\n",
       "      <th>lat</th>\n",
       "      <th>long</th>\n",
       "      <th>media_url</th>\n",
       "      <th>neighborhoods_sffind_boundaries</th>\n",
       "      <th>point</th>\n",
       "      <th>police_district</th>\n",
       "      <th>requested_datetime</th>\n",
       "      <th>...</th>\n",
       "      <th>service_request_id</th>\n",
       "      <th>service_subtype</th>\n",
       "      <th>source</th>\n",
       "      <th>status_description</th>\n",
       "      <th>status_notes</th>\n",
       "      <th>street</th>\n",
       "      <th>supervisor_district</th>\n",
       "      <th>updated_datetime</th>\n",
       "      <th>Month</th>\n",
       "      <th>Year</th>\n",
       "    </tr>\n",
       "  </thead>\n",
       "  <tbody>\n",
       "    <tr>\n",
       "      <th>0</th>\n",
       "      <td>154 10TH ST, SAN FRANCISCO, CA, 94103</td>\n",
       "      <td>HSOC Queue</td>\n",
       "      <td>NaN</td>\n",
       "      <td>37.774471666667</td>\n",
       "      <td>-122.415296666667</td>\n",
       "      <td>{'url': 'http://mobile311.sfgov.org/reports/11...</td>\n",
       "      <td>South of Market</td>\n",
       "      <td>{'type': 'Point', 'coordinates': [-122.4152966...</td>\n",
       "      <td>SOUTHERN</td>\n",
       "      <td>2019-09-20T12:26:43.000</td>\n",
       "      <td>...</td>\n",
       "      <td>11442612</td>\n",
       "      <td>Encampment Reports</td>\n",
       "      <td>Mobile/Open311</td>\n",
       "      <td>Open</td>\n",
       "      <td>Open</td>\n",
       "      <td>10TH ST</td>\n",
       "      <td>6</td>\n",
       "      <td>2019-09-20T12:26:47.000</td>\n",
       "      <td>2019-09-01</td>\n",
       "      <td>2019-01-01</td>\n",
       "    </tr>\n",
       "    <tr>\n",
       "      <th>1</th>\n",
       "      <td>Intersection of 26TH ST and ORANGE ALY</td>\n",
       "      <td>HSOC Queue</td>\n",
       "      <td>NaN</td>\n",
       "      <td>37.748910575209</td>\n",
       "      <td>-122.419726085032</td>\n",
       "      <td>{'url': 'http://mobile311.sfgov.org/reports/11...</td>\n",
       "      <td>Mission</td>\n",
       "      <td>{'type': 'Point', 'coordinates': [-122.4197260...</td>\n",
       "      <td>MISSION</td>\n",
       "      <td>2019-09-20T14:02:37.000</td>\n",
       "      <td>...</td>\n",
       "      <td>11443314</td>\n",
       "      <td>Encampment Reports</td>\n",
       "      <td>Mobile/Open311</td>\n",
       "      <td>Open</td>\n",
       "      <td>Open</td>\n",
       "      <td>26TH ST</td>\n",
       "      <td>9</td>\n",
       "      <td>2019-09-20T14:02:40.000</td>\n",
       "      <td>2019-09-01</td>\n",
       "      <td>2019-01-01</td>\n",
       "    </tr>\n",
       "    <tr>\n",
       "      <th>2</th>\n",
       "      <td>274 CAPP ST, SAN FRANCISCO, CA, 94110</td>\n",
       "      <td>Duplicate Case Hold Queue</td>\n",
       "      <td>NaN</td>\n",
       "      <td>37.762333333333</td>\n",
       "      <td>-122.418555</td>\n",
       "      <td>{'url': 'http://mobile311.sfgov.org/reports/11...</td>\n",
       "      <td>Mission</td>\n",
       "      <td>{'type': 'Point', 'coordinates': [-122.418555,...</td>\n",
       "      <td>MISSION</td>\n",
       "      <td>2019-09-20T20:19:00.000</td>\n",
       "      <td>...</td>\n",
       "      <td>11444971</td>\n",
       "      <td>Encampment Reports</td>\n",
       "      <td>Mobile/Open311</td>\n",
       "      <td>Open</td>\n",
       "      <td>Open</td>\n",
       "      <td>CAPP ST</td>\n",
       "      <td>9</td>\n",
       "      <td>2019-09-20T20:19:12.000</td>\n",
       "      <td>2019-09-01</td>\n",
       "      <td>2019-01-01</td>\n",
       "    </tr>\n",
       "    <tr>\n",
       "      <th>3</th>\n",
       "      <td>1414 17TH ST, SAN FRANCISCO, CA, 94107</td>\n",
       "      <td>HSOC Queue</td>\n",
       "      <td>NaN</td>\n",
       "      <td>37.765122</td>\n",
       "      <td>-122.397856</td>\n",
       "      <td>{'url': 'http://mobile311.sfgov.org/reports/11...</td>\n",
       "      <td>Potrero Hill</td>\n",
       "      <td>{'type': 'Point', 'coordinates': [-122.397856,...</td>\n",
       "      <td>SOUTHERN</td>\n",
       "      <td>2019-09-20T12:44:54.000</td>\n",
       "      <td>...</td>\n",
       "      <td>11442751</td>\n",
       "      <td>Encampment Reports</td>\n",
       "      <td>Mobile/Open311</td>\n",
       "      <td>Open</td>\n",
       "      <td>Open</td>\n",
       "      <td>17TH ST</td>\n",
       "      <td>10</td>\n",
       "      <td>2019-09-20T18:21:06.000</td>\n",
       "      <td>2019-09-01</td>\n",
       "      <td>2019-01-01</td>\n",
       "    </tr>\n",
       "    <tr>\n",
       "      <th>4</th>\n",
       "      <td>Intersection of CEDAR ST and VAN NESS AVE</td>\n",
       "      <td>HSOC Queue</td>\n",
       "      <td>NaN</td>\n",
       "      <td>37.786167144775</td>\n",
       "      <td>-122.421371459961</td>\n",
       "      <td>NaN</td>\n",
       "      <td>Lower Nob Hill</td>\n",
       "      <td>{'type': 'Point', 'coordinates': [-122.4213714...</td>\n",
       "      <td>NORTHERN</td>\n",
       "      <td>2019-09-20T09:11:00.000</td>\n",
       "      <td>...</td>\n",
       "      <td>11441411</td>\n",
       "      <td>Encampment Reports</td>\n",
       "      <td>Phone</td>\n",
       "      <td>Open</td>\n",
       "      <td>Open</td>\n",
       "      <td>CEDAR ST</td>\n",
       "      <td>6</td>\n",
       "      <td>2019-09-20T09:13:21.000</td>\n",
       "      <td>2019-09-01</td>\n",
       "      <td>2019-01-01</td>\n",
       "    </tr>\n",
       "  </tbody>\n",
       "</table>\n",
       "<p>5 rows × 22 columns</p>\n",
       "</div>"
      ],
      "text/plain": [
       "                                     address         agency_responsible  \\\n",
       "0      154 10TH ST, SAN FRANCISCO, CA, 94103                 HSOC Queue   \n",
       "1     Intersection of 26TH ST and ORANGE ALY                 HSOC Queue   \n",
       "2      274 CAPP ST, SAN FRANCISCO, CA, 94110  Duplicate Case Hold Queue   \n",
       "3     1414 17TH ST, SAN FRANCISCO, CA, 94107                 HSOC Queue   \n",
       "4  Intersection of CEDAR ST and VAN NESS AVE                 HSOC Queue   \n",
       "\n",
       "  closed_date              lat               long  \\\n",
       "0         NaN  37.774471666667  -122.415296666667   \n",
       "1         NaN  37.748910575209  -122.419726085032   \n",
       "2         NaN  37.762333333333        -122.418555   \n",
       "3         NaN        37.765122        -122.397856   \n",
       "4         NaN  37.786167144775  -122.421371459961   \n",
       "\n",
       "                                           media_url  \\\n",
       "0  {'url': 'http://mobile311.sfgov.org/reports/11...   \n",
       "1  {'url': 'http://mobile311.sfgov.org/reports/11...   \n",
       "2  {'url': 'http://mobile311.sfgov.org/reports/11...   \n",
       "3  {'url': 'http://mobile311.sfgov.org/reports/11...   \n",
       "4                                                NaN   \n",
       "\n",
       "  neighborhoods_sffind_boundaries  \\\n",
       "0                 South of Market   \n",
       "1                         Mission   \n",
       "2                         Mission   \n",
       "3                    Potrero Hill   \n",
       "4                  Lower Nob Hill   \n",
       "\n",
       "                                               point police_district  \\\n",
       "0  {'type': 'Point', 'coordinates': [-122.4152966...        SOUTHERN   \n",
       "1  {'type': 'Point', 'coordinates': [-122.4197260...         MISSION   \n",
       "2  {'type': 'Point', 'coordinates': [-122.418555,...         MISSION   \n",
       "3  {'type': 'Point', 'coordinates': [-122.397856,...        SOUTHERN   \n",
       "4  {'type': 'Point', 'coordinates': [-122.4213714...        NORTHERN   \n",
       "\n",
       "        requested_datetime  ... service_request_id     service_subtype  \\\n",
       "0  2019-09-20T12:26:43.000  ...           11442612  Encampment Reports   \n",
       "1  2019-09-20T14:02:37.000  ...           11443314  Encampment Reports   \n",
       "2  2019-09-20T20:19:00.000  ...           11444971  Encampment Reports   \n",
       "3  2019-09-20T12:44:54.000  ...           11442751  Encampment Reports   \n",
       "4  2019-09-20T09:11:00.000  ...           11441411  Encampment Reports   \n",
       "\n",
       "           source status_description status_notes    street  \\\n",
       "0  Mobile/Open311               Open         Open   10TH ST   \n",
       "1  Mobile/Open311               Open         Open   26TH ST   \n",
       "2  Mobile/Open311               Open         Open   CAPP ST   \n",
       "3  Mobile/Open311               Open         Open   17TH ST   \n",
       "4           Phone               Open         Open  CEDAR ST   \n",
       "\n",
       "  supervisor_district         updated_datetime       Month        Year  \n",
       "0                   6  2019-09-20T12:26:47.000  2019-09-01  2019-01-01  \n",
       "1                   9  2019-09-20T14:02:40.000  2019-09-01  2019-01-01  \n",
       "2                   9  2019-09-20T20:19:12.000  2019-09-01  2019-01-01  \n",
       "3                  10  2019-09-20T18:21:06.000  2019-09-01  2019-01-01  \n",
       "4                   6  2019-09-20T09:13:21.000  2019-09-01  2019-01-01  \n",
       "\n",
       "[5 rows x 22 columns]"
      ]
     },
     "execution_count": 152,
     "metadata": {},
     "output_type": "execute_result"
    }
   ],
   "source": [
    "df.head()"
   ]
  },
  {
   "cell_type": "code",
   "execution_count": 155,
   "metadata": {},
   "outputs": [
    {
     "data": {
      "text/html": [
       "<div>\n",
       "<style scoped>\n",
       "    .dataframe tbody tr th:only-of-type {\n",
       "        vertical-align: middle;\n",
       "    }\n",
       "\n",
       "    .dataframe tbody tr th {\n",
       "        vertical-align: top;\n",
       "    }\n",
       "\n",
       "    .dataframe thead th {\n",
       "        text-align: right;\n",
       "    }\n",
       "</style>\n",
       "<table border=\"1\" class=\"dataframe\">\n",
       "  <thead>\n",
       "    <tr style=\"text-align: right;\">\n",
       "      <th></th>\n",
       "      <th>service_request_id</th>\n",
       "    </tr>\n",
       "    <tr>\n",
       "      <th>source</th>\n",
       "      <th></th>\n",
       "    </tr>\n",
       "  </thead>\n",
       "  <tbody>\n",
       "    <tr>\n",
       "      <th>Integrated Agency</th>\n",
       "      <td>349</td>\n",
       "    </tr>\n",
       "    <tr>\n",
       "      <th>Mobile/Open311</th>\n",
       "      <td>142068</td>\n",
       "    </tr>\n",
       "    <tr>\n",
       "      <th>Other Department</th>\n",
       "      <td>36</td>\n",
       "    </tr>\n",
       "    <tr>\n",
       "      <th>Phone</th>\n",
       "      <td>51675</td>\n",
       "    </tr>\n",
       "    <tr>\n",
       "      <th>Twitter</th>\n",
       "      <td>915</td>\n",
       "    </tr>\n",
       "    <tr>\n",
       "      <th>Web</th>\n",
       "      <td>19179</td>\n",
       "    </tr>\n",
       "  </tbody>\n",
       "</table>\n",
       "</div>"
      ],
      "text/plain": [
       "                   service_request_id\n",
       "source                               \n",
       "Integrated Agency                 349\n",
       "Mobile/Open311                 142068\n",
       "Other Department                   36\n",
       "Phone                           51675\n",
       "Twitter                           915\n",
       "Web                             19179"
      ]
     },
     "execution_count": 155,
     "metadata": {},
     "output_type": "execute_result"
    }
   ],
   "source": [
    "df.groupby('source').count()[['service_request_id']]"
   ]
  },
  {
   "cell_type": "code",
   "execution_count": 172,
   "metadata": {},
   "outputs": [],
   "source": [
    "idx = df.index[df['source']=='Phone']\n",
    "df_nabe = pd.pivot_table(df.loc[idx],\n",
    "                         values='service_request_id',\n",
    "                         columns='Month',\n",
    "                         index='neighborhoods_sffind_boundaries',\n",
    "                         aggfunc='count'\n",
    "                        ).fillna(0)"
   ]
  },
  {
   "cell_type": "code",
   "execution_count": 177,
   "metadata": {},
   "outputs": [
    {
     "data": {
      "image/png": "[encoded data removed]",
      "text/plain": [
       "<Figure size 1440x360 with 1 Axes>"
      ]
     },
     "metadata": {
      "needs_background": "light"
     },
     "output_type": "display_data"
    }
   ],
   "source": [
    "plt.figure(figsize=(20,5))\n",
    "plt.plot(((df_nabe > 3)*100).sum() / df_nabe.shape[0])\n",
    "plt.grid()\n",
    "plt.xticks(rotation=90)\n",
    "plt.yticks(np.arange(0,101,10))\n",
    "plt.ylim(0,100)\n",
    "plt.show()"
   ]
  },
  {
   "cell_type": "code",
   "execution_count": 169,
   "metadata": {},
   "outputs": [],
   "source": [
    "df_nabe.to_clipboard()"
   ]
  },
  {
   "cell_type": "code",
   "execution_count": 166,
   "metadata": {},
   "outputs": [
    {
     "data": {
      "text/plain": [
       "neighborhoods_sffind_boundaries\n",
       "Balboa Terrace              1.0\n",
       "Treasure Island             1.0\n",
       "Lincoln Park / Ft. Miley    2.0\n",
       "Sherwood Forest             2.0\n",
       "Parkmerced                  5.0\n",
       "dtype: float64"
      ]
     },
     "execution_count": 166,
     "metadata": {},
     "output_type": "execute_result"
    }
   ],
   "source": [
    "df_nabe.sum(axis=1).sort_values().head()"
   ]
  },
  {
   "cell_type": "code",
   "execution_count": 167,
   "metadata": {},
   "outputs": [
    {
     "data": {
      "text/plain": [
       "neighborhoods_sffind_boundaries\n",
       "Polk Gulch         14\n",
       "Cayuga             15\n",
       "Bayview            15\n",
       "Castro             15\n",
       "Portola            16\n",
       "Outer Richmond     18\n",
       "Cathedral Hill     19\n",
       "Bernal Heights     19\n",
       "Lower Haight       19\n",
       "Excelsior          20\n",
       "Inner Richmond     21\n",
       "Outer Sunset       24\n",
       "Lower Nob Hill     25\n",
       "Civic Center       25\n",
       "Mission Terrace    26\n",
       "Tenderloin         26\n",
       "Duboce Triangle    28\n",
       "Mission Dolores    35\n",
       "South of Market    36\n",
       "Mission            36\n",
       "dtype: int64"
      ]
     },
     "execution_count": 167,
     "metadata": {},
     "output_type": "execute_result"
    }
   ],
   "source": [
    "((df_nabe.iloc[:,:36] > 3)*1).sum(axis=1).sort_values().tail(20)"
   ]
  },
  {
   "cell_type": "code",
   "execution_count": 147,
   "metadata": {},
   "outputs": [
    {
     "data": {
      "text/plain": [
       "<matplotlib.axes._subplots.AxesSubplot at 0x11eb734a8>"
      ]
     },
     "execution_count": 147,
     "metadata": {},
     "output_type": "execute_result"
    },
    {
     "data": {
      "image/png": "[encoded data removed]",
      "text/plain": [
       "<Figure size 432x288 with 1 Axes>"
      ]
     },
     "metadata": {
      "needs_background": "light"
     },
     "output_type": "display_data"
    }
   ],
   "source": [
    "((df_nabe.iloc[:,-36:] > 3)*1).sum(axis=1).sort_values().hist(cumulative=False, density=True ,bins=np.arange(37))"
   ]
  },
  {
   "cell_type": "code",
   "execution_count": 148,
   "metadata": {},
   "outputs": [
    {
     "data": {
      "text/plain": [
       "<matplotlib.axes._subplots.AxesSubplot at 0x11e4cba58>"
      ]
     },
     "execution_count": 148,
     "metadata": {},
     "output_type": "execute_result"
    },
    {
     "data": {
      "image/png": "[encoded data removed]",
      "text/plain": [
       "<Figure size 432x288 with 1 Axes>"
      ]
     },
     "metadata": {
      "needs_background": "light"
     },
     "output_type": "display_data"
    }
   ],
   "source": [
    "((df_nabe.iloc[:,:36] > 3)*1).sum(axis=1).sort_values().hist(cumulative=False, density=True ,bins=np.arange(37))"
   ]
  },
  {
   "cell_type": "code",
   "execution_count": 151,
   "metadata": {},
   "outputs": [],
   "source": [
    "df_nabe.to_clipboard()"
   ]
  },
  {
   "cell_type": "code",
   "execution_count": null,
   "metadata": {},
   "outputs": [],
   "source": []
  }
 ],
 "metadata": {
  "kernelspec": {
   "display_name": "Python 3",
   "language": "python",
   "name": "python3"
  },
  "language_info": {
   "codemirror_mode": {
    "name": "ipython",
    "version": 3
   },
   "file_extension": ".py",
   "mimetype": "text/x-python",
   "name": "python",
   "nbconvert_exporter": "python",
   "pygments_lexer": "ipython3",
   "version": "3.7.3"
  }
 },
 "nbformat": 4,
 "nbformat_minor": 2
}
