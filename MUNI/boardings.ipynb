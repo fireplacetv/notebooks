{
 "cells": [
  {
   "cell_type": "code",
   "execution_count": 10,
   "metadata": {},
   "outputs": [],
   "source": [
    "import pandas as pd\n",
    "import numpy as np\n",
    "from matplotlib import pyplot as plt"
   ]
  },
  {
   "cell_type": "code",
   "execution_count": 14,
   "metadata": {},
   "outputs": [
    {
     "data": {
      "text/plain": [
       "(2863, 4)"
      ]
     },
     "execution_count": 14,
     "metadata": {},
     "output_type": "execute_result"
    }
   ],
   "source": [
    "raw_boardings = pd.read_csv('data/Weekday Average Boardings by Stop.csv')\n",
    "raw_boardings.shape"
   ]
  },
  {
   "cell_type": "code",
   "execution_count": 15,
   "metadata": {},
   "outputs": [
    {
     "data": {
      "text/plain": [
       "Public Route Name    object\n",
       "Stop ID               int64\n",
       "Stop Name            object\n",
       "Avg Ons               int64\n",
       "dtype: object"
      ]
     },
     "execution_count": 15,
     "metadata": {},
     "output_type": "execute_result"
    }
   ],
   "source": [
    "raw_boardings.dtypes"
   ]
  },
  {
   "cell_type": "code",
   "execution_count": 19,
   "metadata": {},
   "outputs": [
    {
     "data": {
      "image/png": "[encoded data removed]",
      "text/plain": [
       "<Figure size 432x288 with 1 Axes>"
      ]
     },
     "metadata": {
      "needs_background": "light"
     },
     "output_type": "display_data"
    }
   ],
   "source": [
    "raw_boardings['Avg Ons'].hist(bins=np.arange(0,500,10))\n",
    "plt.show()"
   ]
  },
  {
   "cell_type": "code",
   "execution_count": 24,
   "metadata": {},
   "outputs": [
    {
     "data": {
      "text/html": [
       "<div>\n",
       "<style scoped>\n",
       "    .dataframe tbody tr th:only-of-type {\n",
       "        vertical-align: middle;\n",
       "    }\n",
       "\n",
       "    .dataframe tbody tr th {\n",
       "        vertical-align: top;\n",
       "    }\n",
       "\n",
       "    .dataframe thead th {\n",
       "        text-align: right;\n",
       "    }\n",
       "</style>\n",
       "<table border=\"1\" class=\"dataframe\">\n",
       "  <thead>\n",
       "    <tr style=\"text-align: right;\">\n",
       "      <th></th>\n",
       "      <th>Public Route Name</th>\n",
       "    </tr>\n",
       "    <tr>\n",
       "      <th>Stop ID</th>\n",
       "      <th></th>\n",
       "    </tr>\n",
       "  </thead>\n",
       "  <tbody>\n",
       "    <tr>\n",
       "      <th>5640</th>\n",
       "      <td>10</td>\n",
       "    </tr>\n",
       "    <tr>\n",
       "      <th>5643</th>\n",
       "      <td>10</td>\n",
       "    </tr>\n",
       "    <tr>\n",
       "      <th>5645</th>\n",
       "      <td>10</td>\n",
       "    </tr>\n",
       "    <tr>\n",
       "      <th>5685</th>\n",
       "      <td>10</td>\n",
       "    </tr>\n",
       "    <tr>\n",
       "      <th>5652</th>\n",
       "      <td>9</td>\n",
       "    </tr>\n",
       "  </tbody>\n",
       "</table>\n",
       "</div>"
      ],
      "text/plain": [
       "         Public Route Name\n",
       "Stop ID                   \n",
       "5640                    10\n",
       "5643                    10\n",
       "5645                    10\n",
       "5685                    10\n",
       "5652                     9"
      ]
     },
     "execution_count": 24,
     "metadata": {},
     "output_type": "execute_result"
    }
   ],
   "source": [
    "df = raw_boardings.copy()\n",
    "df.groupby('Stop ID').nunique()[['Public Route Name']].sort_values('Public Route Name', ascending=False).head()"
   ]
  },
  {
   "cell_type": "code",
   "execution_count": 38,
   "metadata": {},
   "outputs": [
    {
     "data": {
      "text/html": [
       "<div>\n",
       "<style scoped>\n",
       "    .dataframe tbody tr th:only-of-type {\n",
       "        vertical-align: middle;\n",
       "    }\n",
       "\n",
       "    .dataframe tbody tr th {\n",
       "        vertical-align: top;\n",
       "    }\n",
       "\n",
       "    .dataframe thead th {\n",
       "        text-align: right;\n",
       "    }\n",
       "</style>\n",
       "<table border=\"1\" class=\"dataframe\">\n",
       "  <thead>\n",
       "    <tr style=\"text-align: right;\">\n",
       "      <th></th>\n",
       "      <th>Public Route Name</th>\n",
       "      <th>Stop ID</th>\n",
       "      <th>Stop Name</th>\n",
       "      <th>Avg Ons</th>\n",
       "    </tr>\n",
       "  </thead>\n",
       "  <tbody>\n",
       "    <tr>\n",
       "      <th>262</th>\n",
       "      <td>6</td>\n",
       "      <td>5652</td>\n",
       "      <td>Market St&amp;9th St S-NS/SI</td>\n",
       "      <td>139</td>\n",
       "    </tr>\n",
       "    <tr>\n",
       "      <th>320</th>\n",
       "      <td>7</td>\n",
       "      <td>5652</td>\n",
       "      <td>Market St&amp;9th St S-NS/SI</td>\n",
       "      <td>148</td>\n",
       "    </tr>\n",
       "    <tr>\n",
       "      <th>531</th>\n",
       "      <td>9</td>\n",
       "      <td>5652</td>\n",
       "      <td>Market St&amp;9th St S-NS/SI</td>\n",
       "      <td>156</td>\n",
       "    </tr>\n",
       "    <tr>\n",
       "      <th>574</th>\n",
       "      <td>9R</td>\n",
       "      <td>5652</td>\n",
       "      <td>Market St&amp;9th St S-NS/SI</td>\n",
       "      <td>160</td>\n",
       "    </tr>\n",
       "    <tr>\n",
       "      <th>925</th>\n",
       "      <td>21</td>\n",
       "      <td>5652</td>\n",
       "      <td>Market St&amp;9th St S-NS/SI</td>\n",
       "      <td>196</td>\n",
       "    </tr>\n",
       "    <tr>\n",
       "      <th>2596</th>\n",
       "      <td>F</td>\n",
       "      <td>5652</td>\n",
       "      <td>Market St&amp;9th St S-NS/SI</td>\n",
       "      <td>57</td>\n",
       "    </tr>\n",
       "    <tr>\n",
       "      <th>2649</th>\n",
       "      <td>K</td>\n",
       "      <td>5652</td>\n",
       "      <td>Market St&amp;9th St S-NS/SI</td>\n",
       "      <td>2</td>\n",
       "    </tr>\n",
       "    <tr>\n",
       "      <th>2738</th>\n",
       "      <td>L</td>\n",
       "      <td>5652</td>\n",
       "      <td>Market St&amp;9th St S-NS/SI</td>\n",
       "      <td>10</td>\n",
       "    </tr>\n",
       "    <tr>\n",
       "      <th>2807</th>\n",
       "      <td>N</td>\n",
       "      <td>5652</td>\n",
       "      <td>Market St&amp;9th St S-NS/SI</td>\n",
       "      <td>12</td>\n",
       "    </tr>\n",
       "  </tbody>\n",
       "</table>\n",
       "</div>"
      ],
      "text/plain": [
       "     Public Route Name  Stop ID                 Stop Name  Avg Ons\n",
       "262                  6     5652  Market St&9th St S-NS/SI      139\n",
       "320                  7     5652  Market St&9th St S-NS/SI      148\n",
       "531                  9     5652  Market St&9th St S-NS/SI      156\n",
       "574                 9R     5652  Market St&9th St S-NS/SI      160\n",
       "925                 21     5652  Market St&9th St S-NS/SI      196\n",
       "2596                 F     5652  Market St&9th St S-NS/SI       57\n",
       "2649                 K     5652  Market St&9th St S-NS/SI        2\n",
       "2738                 L     5652  Market St&9th St S-NS/SI       10\n",
       "2807                 N     5652  Market St&9th St S-NS/SI       12"
      ]
     },
     "execution_count": 38,
     "metadata": {},
     "output_type": "execute_result"
    }
   ],
   "source": [
    "idx = df.index[df['Stop ID']==5652]\n",
    "df.loc[idx]"
   ]
  },
  {
   "cell_type": "code",
   "execution_count": 88,
   "metadata": {},
   "outputs": [
    {
     "data": {
      "text/html": [
       "<div>\n",
       "<style scoped>\n",
       "    .dataframe tbody tr th:only-of-type {\n",
       "        vertical-align: middle;\n",
       "    }\n",
       "\n",
       "    .dataframe tbody tr th {\n",
       "        vertical-align: top;\n",
       "    }\n",
       "\n",
       "    .dataframe thead th {\n",
       "        text-align: right;\n",
       "    }\n",
       "</style>\n",
       "<table border=\"1\" class=\"dataframe\">\n",
       "  <thead>\n",
       "    <tr style=\"text-align: right;\">\n",
       "      <th></th>\n",
       "      <th>Public Route Name</th>\n",
       "      <th>Stop ID</th>\n",
       "      <th>Stop Name</th>\n",
       "      <th>Avg Ons</th>\n",
       "      <th>Root Route Name</th>\n",
       "    </tr>\n",
       "  </thead>\n",
       "  <tbody>\n",
       "    <tr>\n",
       "      <th>1709</th>\n",
       "      <td>38</td>\n",
       "      <td>3089</td>\n",
       "      <td>Beale St&amp;Mission St W-MB/BZ</td>\n",
       "      <td>66</td>\n",
       "      <td>38</td>\n",
       "    </tr>\n",
       "    <tr>\n",
       "      <th>1674</th>\n",
       "      <td>38</td>\n",
       "      <td>3567</td>\n",
       "      <td>43rd Ave&amp;Clement St SW-FS/SB</td>\n",
       "      <td>47</td>\n",
       "      <td>38</td>\n",
       "    </tr>\n",
       "    <tr>\n",
       "      <th>1676</th>\n",
       "      <td>38</td>\n",
       "      <td>3568</td>\n",
       "      <td>43rd Ave&amp;Point Lobos Ave NW-NS/PS</td>\n",
       "      <td>82</td>\n",
       "      <td>38</td>\n",
       "    </tr>\n",
       "    <tr>\n",
       "      <th>1671</th>\n",
       "      <td>38</td>\n",
       "      <td>3608</td>\n",
       "      <td>48th Ave&amp;Point Lobos Ave SW-FS/BZ</td>\n",
       "      <td>30</td>\n",
       "      <td>38</td>\n",
       "    </tr>\n",
       "    <tr>\n",
       "      <th>1696</th>\n",
       "      <td>38</td>\n",
       "      <td>4256</td>\n",
       "      <td>Geary Blvd&amp;3RD Ave SW-NS/BZ</td>\n",
       "      <td>292</td>\n",
       "      <td>38</td>\n",
       "    </tr>\n",
       "  </tbody>\n",
       "</table>\n",
       "</div>"
      ],
      "text/plain": [
       "     Public Route Name  Stop ID                          Stop Name  Avg Ons  \\\n",
       "1709                38     3089        Beale St&Mission St W-MB/BZ       66   \n",
       "1674                38     3567       43rd Ave&Clement St SW-FS/SB       47   \n",
       "1676                38     3568  43rd Ave&Point Lobos Ave NW-NS/PS       82   \n",
       "1671                38     3608  48th Ave&Point Lobos Ave SW-FS/BZ       30   \n",
       "1696                38     4256        Geary Blvd&3RD Ave SW-NS/BZ      292   \n",
       "\n",
       "     Root Route Name  \n",
       "1709              38  \n",
       "1674              38  \n",
       "1676              38  \n",
       "1671              38  \n",
       "1696              38  "
      ]
     },
     "execution_count": 88,
     "metadata": {},
     "output_type": "execute_result"
    }
   ],
   "source": [
    "idx = df.index[df['Public Route Name']=='38']\n",
    "df.loc[idx].sort_values('Stop ID').head()"
   ]
  },
  {
   "cell_type": "code",
   "execution_count": 49,
   "metadata": {},
   "outputs": [
    {
     "data": {
      "text/html": [
       "<div>\n",
       "<style scoped>\n",
       "    .dataframe tbody tr th:only-of-type {\n",
       "        vertical-align: middle;\n",
       "    }\n",
       "\n",
       "    .dataframe tbody tr th {\n",
       "        vertical-align: top;\n",
       "    }\n",
       "\n",
       "    .dataframe thead th {\n",
       "        text-align: right;\n",
       "    }\n",
       "</style>\n",
       "<table border=\"1\" class=\"dataframe\">\n",
       "  <thead>\n",
       "    <tr style=\"text-align: right;\">\n",
       "      <th></th>\n",
       "      <th></th>\n",
       "      <th>Avg Ons</th>\n",
       "    </tr>\n",
       "    <tr>\n",
       "      <th>Stop ID</th>\n",
       "      <th>Stop Name</th>\n",
       "      <th></th>\n",
       "    </tr>\n",
       "  </thead>\n",
       "  <tbody>\n",
       "    <tr>\n",
       "      <th>5551</th>\n",
       "      <th>Mission St&amp;16th St NE-FS/BZ</th>\n",
       "      <td>3019</td>\n",
       "    </tr>\n",
       "    <tr>\n",
       "      <th>5565</th>\n",
       "      <th>Mission St&amp;24th St NE-FS/BB</th>\n",
       "      <td>2939</td>\n",
       "    </tr>\n",
       "    <tr>\n",
       "      <th>6817</th>\n",
       "      <th>Van Ness Ave&amp;Market St NE-FS/BZ</th>\n",
       "      <td>2882</td>\n",
       "    </tr>\n",
       "    <tr>\n",
       "      <th>5593</th>\n",
       "      <th>Mission St&amp;Geneva Ave E-FS/BB</th>\n",
       "      <td>2412</td>\n",
       "    </tr>\n",
       "    <tr>\n",
       "      <th>4805</th>\n",
       "      <th>Balboa Park BART Station SW-MB/BZ</th>\n",
       "      <td>2250</td>\n",
       "    </tr>\n",
       "    <tr>\n",
       "      <th>4294</th>\n",
       "      <th>Geary Blvd&amp;Divisadero St SW-NS/BZ</th>\n",
       "      <td>2155</td>\n",
       "    </tr>\n",
       "    <tr>\n",
       "      <th>7619</th>\n",
       "      <th>Beale St&amp;Howard St W-FS/SI</th>\n",
       "      <td>2140</td>\n",
       "    </tr>\n",
       "    <tr>\n",
       "      <th>4270</th>\n",
       "      <th>Geary Blvd&amp;25TH Ave SW-NS/BZ</th>\n",
       "      <td>2048</td>\n",
       "    </tr>\n",
       "    <tr>\n",
       "      <th>4258</th>\n",
       "      <th>Geary Blvd&amp;6TH Ave SW-NS/BZ</th>\n",
       "      <td>2038</td>\n",
       "    </tr>\n",
       "    <tr>\n",
       "      <th>4821</th>\n",
       "      <th>Kearny St&amp;Geary St NE-FS/BZ</th>\n",
       "      <td>2012</td>\n",
       "    </tr>\n",
       "  </tbody>\n",
       "</table>\n",
       "</div>"
      ],
      "text/plain": [
       "                                           Avg Ons\n",
       "Stop ID Stop Name                                 \n",
       "5551    Mission St&16th St NE-FS/BZ           3019\n",
       "5565    Mission St&24th St NE-FS/BB           2939\n",
       "6817    Van Ness Ave&Market St NE-FS/BZ       2882\n",
       "5593    Mission St&Geneva Ave E-FS/BB         2412\n",
       "4805    Balboa Park BART Station SW-MB/BZ     2250\n",
       "4294    Geary Blvd&Divisadero St SW-NS/BZ     2155\n",
       "7619    Beale St&Howard St W-FS/SI            2140\n",
       "4270    Geary Blvd&25TH Ave SW-NS/BZ          2048\n",
       "4258    Geary Blvd&6TH Ave SW-NS/BZ           2038\n",
       "4821    Kearny St&Geary St NE-FS/BZ           2012"
      ]
     },
     "execution_count": 49,
     "metadata": {},
     "output_type": "execute_result"
    }
   ],
   "source": [
    "df.groupby(['Stop ID','Stop Name']).sum()[['Avg Ons']].sort_values('Avg Ons', ascending=False).head(10)"
   ]
  },
  {
   "cell_type": "code",
   "execution_count": 48,
   "metadata": {},
   "outputs": [
    {
     "data": {
      "text/html": [
       "<div>\n",
       "<style scoped>\n",
       "    .dataframe tbody tr th:only-of-type {\n",
       "        vertical-align: middle;\n",
       "    }\n",
       "\n",
       "    .dataframe tbody tr th {\n",
       "        vertical-align: top;\n",
       "    }\n",
       "\n",
       "    .dataframe thead th {\n",
       "        text-align: right;\n",
       "    }\n",
       "</style>\n",
       "<table border=\"1\" class=\"dataframe\">\n",
       "  <thead>\n",
       "    <tr style=\"text-align: right;\">\n",
       "      <th></th>\n",
       "      <th>Avg Ons</th>\n",
       "    </tr>\n",
       "    <tr>\n",
       "      <th>Public Route Name</th>\n",
       "      <th></th>\n",
       "    </tr>\n",
       "  </thead>\n",
       "  <tbody>\n",
       "    <tr>\n",
       "      <th>38R</th>\n",
       "      <td>17813</td>\n",
       "    </tr>\n",
       "    <tr>\n",
       "      <th>14</th>\n",
       "      <td>14450</td>\n",
       "    </tr>\n",
       "    <tr>\n",
       "      <th>49</th>\n",
       "      <td>13884</td>\n",
       "    </tr>\n",
       "    <tr>\n",
       "      <th>38</th>\n",
       "      <td>13018</td>\n",
       "    </tr>\n",
       "    <tr>\n",
       "      <th>8</th>\n",
       "      <td>12453</td>\n",
       "    </tr>\n",
       "    <tr>\n",
       "      <th>30</th>\n",
       "      <td>10796</td>\n",
       "    </tr>\n",
       "    <tr>\n",
       "      <th>29</th>\n",
       "      <td>10379</td>\n",
       "    </tr>\n",
       "    <tr>\n",
       "      <th>1</th>\n",
       "      <td>10301</td>\n",
       "    </tr>\n",
       "    <tr>\n",
       "      <th>44</th>\n",
       "      <td>9790</td>\n",
       "    </tr>\n",
       "    <tr>\n",
       "      <th>14R</th>\n",
       "      <td>9403</td>\n",
       "    </tr>\n",
       "  </tbody>\n",
       "</table>\n",
       "</div>"
      ],
      "text/plain": [
       "                   Avg Ons\n",
       "Public Route Name         \n",
       "38R                  17813\n",
       "14                   14450\n",
       "49                   13884\n",
       "38                   13018\n",
       "8                    12453\n",
       "30                   10796\n",
       "29                   10379\n",
       "1                    10301\n",
       "44                    9790\n",
       "14R                   9403"
      ]
     },
     "execution_count": 48,
     "metadata": {},
     "output_type": "execute_result"
    }
   ],
   "source": [
    "df.groupby(['Public Route Name']).sum()[['Avg Ons']].sort_values('Avg Ons', ascending=False).head(10)"
   ]
  },
  {
   "cell_type": "code",
   "execution_count": 68,
   "metadata": {},
   "outputs": [],
   "source": [
    "df['Root Route Name'] = df['Public Route Name'].str.replace('R','').str.replace('X','').str.replace('A','').str.replace('B','')"
   ]
  },
  {
   "cell_type": "code",
   "execution_count": 86,
   "metadata": {},
   "outputs": [],
   "source": [
    "df_0 = df.groupby(['Root Route Name']).sum()[['Avg Ons']].sort_values('Avg Ons', ascending=False)\n",
    "df_0['Cum Sum'] = df_0['Avg Ons'].cumsum()"
   ]
  },
  {
   "cell_type": "code",
   "execution_count": 87,
   "metadata": {},
   "outputs": [],
   "source": [
    "df_0.to_clipboard()"
   ]
  },
  {
   "cell_type": "code",
   "execution_count": 70,
   "metadata": {},
   "outputs": [
    {
     "data": {
      "text/plain": [
       "array(['1', '2', '3', '5', '6', '7', '8', '9', '10', '12', '14', '18',\n",
       "       '19', '21', '22', '23', '24', '25', '27', '28', '29', '30', '31',\n",
       "       '33', '35', '36', '37', '38', '39', '41', '43', '44', '45', '47',\n",
       "       '48', '49', '52', '54', '55', '56', '57', '66', '67', '81', '82',\n",
       "       '83', '88', '90', '91', 'F', 'J', 'K', 'KT', 'L', 'M', 'N'],\n",
       "      dtype=object)"
      ]
     },
     "execution_count": 70,
     "metadata": {},
     "output_type": "execute_result"
    }
   ],
   "source": [
    "df['Root Route Name'].unique()"
   ]
  },
  {
   "cell_type": "code",
   "execution_count": 71,
   "metadata": {},
   "outputs": [
    {
     "data": {
      "text/plain": [
       "array(['1', '1AX', '1BX', '2', '3', '5', '5R', '6', '7', '7X', '8', '8AX',\n",
       "       '8BX', '9', '9R', '10', '12', '14', '14R', '14X', '18', '19', '21',\n",
       "       '22', '23', '24', '25', '27', '28', '28R', '29', '30', '30X', '31',\n",
       "       '31AX', '31BX', '33', '35', '36', '37', '38', '38AX', '38BX',\n",
       "       '38R', '39', '41', '43', '44', '45', '47', '48', '49', '52', '54',\n",
       "       '55', '56', '57', '66', '67', '81X', '82X', '83X', '88', '90',\n",
       "       '91', 'F', 'J', 'K', 'KT', 'L', 'M', 'N', 'NX'], dtype=object)"
      ]
     },
     "execution_count": 71,
     "metadata": {},
     "output_type": "execute_result"
    }
   ],
   "source": [
    "df['Public Route Name'].unique()"
   ]
  },
  {
   "cell_type": "code",
   "execution_count": 67,
   "metadata": {},
   "outputs": [
    {
     "data": {
      "text/plain": [
       "273964"
      ]
     },
     "execution_count": 67,
     "metadata": {},
     "output_type": "execute_result"
    }
   ],
   "source": [
    "df['Avg Ons'].sum()"
   ]
  },
  {
   "cell_type": "code",
   "execution_count": null,
   "metadata": {},
   "outputs": [],
   "source": []
  }
 ],
 "metadata": {
  "kernelspec": {
   "display_name": "Python 3",
   "language": "python",
   "name": "python3"
  },
  "language_info": {
   "codemirror_mode": {
    "name": "ipython",
    "version": 3
   },
   "file_extension": ".py",
   "mimetype": "text/x-python",
   "name": "python",
   "nbconvert_exporter": "python",
   "pygments_lexer": "ipython3",
   "version": "3.7.3"
  }
 },
 "nbformat": 4,
 "nbformat_minor": 2
}
