{
 "cells": [
  {
   "cell_type": "markdown",
   "metadata": {},
   "source": [
    "# BART API Queries"
   ]
  },
  {
   "cell_type": "code",
   "execution_count": 336,
   "metadata": {
    "collapsed": true
   },
   "outputs": [],
   "source": [
    "# Imports\n",
    "import pandas as pd\n",
    "from pandas.io.json import json_normalize\n",
    "import datetime as dt\n",
    "import dateutil.parser as dp\n",
    "import numpy as np\n",
    "import requests\n",
    "import json\n",
    "from flatten_json import flatten_json\n",
    "from matplotlib import pyplot as plt\n",
    "\n",
    "from sqlalchemy import create_engine\n",
    "from sqlalchemy.types import VARCHAR,FLOAT,INTEGER,BIGINT,BLOB,DATETIME,DATE,TIMESTAMP,TIME,BOOLEAN"
   ]
  },
  {
   "cell_type": "code",
   "execution_count": 337,
   "metadata": {},
   "outputs": [],
   "source": [
    "# load credentials and create db connection\n",
    "with open('credentials.json') as f:\n",
    "    db_creds = json.load(f)\n",
    "connect_str = 'mysql+pymysql://%s:%s@%s:%s/%s' % \\\n",
    "              (db_creds['username'],\n",
    "              db_creds['password'],\n",
    "              db_creds['host'],\n",
    "              db_creds['port'],\n",
    "              db_creds['database'])\n",
    "engine = create_engine(connect_str, echo = False)\n"
   ]
  },
  {
   "cell_type": "code",
   "execution_count": 338,
   "metadata": {},
   "outputs": [],
   "source": [
    "# load credentials and create db connection\n",
    "with open('credentials.json') as f:\n",
    "    db_creds = json.load(f)\n",
    "connect_str = 'mysql+pymysql://%s:%s@%s:%s/%s' % \\\n",
    "              (db_creds['username'], \n",
    "               db_creds['password'],\n",
    "               db_creds['host'],\n",
    "               db_creds['port'],\n",
    "               db_creds['database'])\n",
    "engine = create_engine(connect_str, echo = False)"
   ]
  },
  {
   "cell_type": "markdown",
   "metadata": {},
   "source": [
    "# Static Queries (eg stations, routes, etc.)"
   ]
  },
  {
   "cell_type": "code",
   "execution_count": 339,
   "metadata": {},
   "outputs": [
    {
     "data": {
      "text/html": [
       "<div>\n",
       "<style scoped>\n",
       "    .dataframe tbody tr th:only-of-type {\n",
       "        vertical-align: middle;\n",
       "    }\n",
       "\n",
       "    .dataframe tbody tr th {\n",
       "        vertical-align: top;\n",
       "    }\n",
       "\n",
       "    .dataframe thead th {\n",
       "        text-align: right;\n",
       "    }\n",
       "</style>\n",
       "<table border=\"1\" class=\"dataframe\">\n",
       "  <thead>\n",
       "    <tr style=\"text-align: right;\">\n",
       "      <th></th>\n",
       "      <th>abbr</th>\n",
       "      <th>address</th>\n",
       "      <th>city</th>\n",
       "      <th>county</th>\n",
       "      <th>gtfs_latitude</th>\n",
       "      <th>gtfs_longitude</th>\n",
       "      <th>name</th>\n",
       "      <th>state</th>\n",
       "      <th>zipcode</th>\n",
       "    </tr>\n",
       "  </thead>\n",
       "  <tbody>\n",
       "    <tr>\n",
       "      <th>0</th>\n",
       "      <td>12TH</td>\n",
       "      <td>1245 Broadway</td>\n",
       "      <td>Oakland</td>\n",
       "      <td>alameda</td>\n",
       "      <td>37.803768</td>\n",
       "      <td>-122.271450</td>\n",
       "      <td>12th St. Oakland City Center</td>\n",
       "      <td>CA</td>\n",
       "      <td>94612</td>\n",
       "    </tr>\n",
       "    <tr>\n",
       "      <th>1</th>\n",
       "      <td>16TH</td>\n",
       "      <td>2000 Mission Street</td>\n",
       "      <td>San Francisco</td>\n",
       "      <td>sanfrancisco</td>\n",
       "      <td>37.765062</td>\n",
       "      <td>-122.419694</td>\n",
       "      <td>16th St. Mission</td>\n",
       "      <td>CA</td>\n",
       "      <td>94110</td>\n",
       "    </tr>\n",
       "    <tr>\n",
       "      <th>2</th>\n",
       "      <td>19TH</td>\n",
       "      <td>1900 Broadway</td>\n",
       "      <td>Oakland</td>\n",
       "      <td>alameda</td>\n",
       "      <td>37.808350</td>\n",
       "      <td>-122.268602</td>\n",
       "      <td>19th St. Oakland</td>\n",
       "      <td>CA</td>\n",
       "      <td>94612</td>\n",
       "    </tr>\n",
       "    <tr>\n",
       "      <th>3</th>\n",
       "      <td>24TH</td>\n",
       "      <td>2800 Mission Street</td>\n",
       "      <td>San Francisco</td>\n",
       "      <td>sanfrancisco</td>\n",
       "      <td>37.752470</td>\n",
       "      <td>-122.418143</td>\n",
       "      <td>24th St. Mission</td>\n",
       "      <td>CA</td>\n",
       "      <td>94110</td>\n",
       "    </tr>\n",
       "    <tr>\n",
       "      <th>4</th>\n",
       "      <td>ANTC</td>\n",
       "      <td>1600 Slatten Ranch Road</td>\n",
       "      <td>Antioch</td>\n",
       "      <td>Contra Costa</td>\n",
       "      <td>37.995388</td>\n",
       "      <td>-121.780420</td>\n",
       "      <td>Antioch</td>\n",
       "      <td>CA</td>\n",
       "      <td>94509</td>\n",
       "    </tr>\n",
       "  </tbody>\n",
       "</table>\n",
       "</div>"
      ],
      "text/plain": [
       "   abbr                  address           city        county gtfs_latitude  \\\n",
       "0  12TH            1245 Broadway        Oakland       alameda     37.803768   \n",
       "1  16TH      2000 Mission Street  San Francisco  sanfrancisco     37.765062   \n",
       "2  19TH            1900 Broadway        Oakland       alameda     37.808350   \n",
       "3  24TH      2800 Mission Street  San Francisco  sanfrancisco     37.752470   \n",
       "4  ANTC  1600 Slatten Ranch Road        Antioch  Contra Costa     37.995388   \n",
       "\n",
       "  gtfs_longitude                          name state zipcode  \n",
       "0    -122.271450  12th St. Oakland City Center    CA   94612  \n",
       "1    -122.419694              16th St. Mission    CA   94110  \n",
       "2    -122.268602              19th St. Oakland    CA   94612  \n",
       "3    -122.418143              24th St. Mission    CA   94110  \n",
       "4    -121.780420                       Antioch    CA   94509  "
      ]
     },
     "execution_count": 339,
     "metadata": {},
     "output_type": "execute_result"
    }
   ],
   "source": [
    "# stations\n",
    "rest_url = \"http://api.bart.gov/api/stn.aspx?cmd=stns&key=MW9S-E7SL-26DU-VV8V&json=y\"\n",
    "response = requests.post(rest_url)\n",
    "response_json = json.loads(response.content)\n",
    "stations = pd.io.json.json_normalize(response_json['root']['stations']['station'])\n",
    "\n",
    "stations.to_sql('stations', engine, if_exists='replace')\n",
    "stations.head()"
   ]
  },
  {
   "cell_type": "code",
   "execution_count": 340,
   "metadata": {},
   "outputs": [
    {
     "ename": "NameError",
     "evalue": "name 'station_info_columns' is not defined",
     "output_type": "error",
     "traceback": [
      "\u001b[0;31m---------------------------------------------------------------------------\u001b[0m",
      "\u001b[0;31mNameError\u001b[0m                                 Traceback (most recent call last)",
      "\u001b[0;32m<ipython-input-340-3947c14b31de>\u001b[0m in \u001b[0;36m<module>\u001b[0;34m\u001b[0m\n\u001b[1;32m     35\u001b[0m         \u001b[0mprint\u001b[0m\u001b[0;34m(\u001b[0m\u001b[0mi\u001b[0m\u001b[0;34m,\u001b[0m\u001b[0morig\u001b[0m\u001b[0;34m)\u001b[0m\u001b[0;34m\u001b[0m\u001b[0;34m\u001b[0m\u001b[0m\n\u001b[1;32m     36\u001b[0m \u001b[0;34m\u001b[0m\u001b[0m\n\u001b[0;32m---> 37\u001b[0;31m \u001b[0mall_stations\u001b[0m\u001b[0;34m.\u001b[0m\u001b[0mloc\u001b[0m\u001b[0;34m[\u001b[0m\u001b[0;34m:\u001b[0m\u001b[0;34m,\u001b[0m\u001b[0mstation_info_columns\u001b[0m\u001b[0;34m]\u001b[0m\u001b[0;34m.\u001b[0m\u001b[0mreset_index\u001b[0m\u001b[0;34m(\u001b[0m\u001b[0mdrop\u001b[0m\u001b[0;34m=\u001b[0m\u001b[0;32mTrue\u001b[0m\u001b[0;34m)\u001b[0m\u001b[0;34m.\u001b[0m\u001b[0mto_sql\u001b[0m\u001b[0;34m(\u001b[0m\u001b[0;34m'station_info'\u001b[0m\u001b[0;34m,\u001b[0m\u001b[0mengine\u001b[0m\u001b[0;34m,\u001b[0m\u001b[0mif_exists\u001b[0m\u001b[0;34m=\u001b[0m\u001b[0;34m'replace'\u001b[0m\u001b[0;34m,\u001b[0m \u001b[0mdtype\u001b[0m\u001b[0;34m=\u001b[0m\u001b[0mstation_info_types\u001b[0m\u001b[0;34m)\u001b[0m\u001b[0;34m\u001b[0m\u001b[0;34m\u001b[0m\u001b[0m\n\u001b[0m",
      "\u001b[0;31mNameError\u001b[0m: name 'station_info_columns' is not defined"
     ]
    }
   ],
   "source": [
    "# routes\n",
    "station_info_column_names = ['abbr', 'address', 'attraction', 'city', 'county', 'cross_street',\n",
    "                             'food', 'gtfs_latitude', 'gtfs_longitude', 'intro', 'link', 'name',\n",
    "                             'north_platforms', 'north_routes', 'platform_info', 'shopping',\n",
    "                             'south_platforms', 'south_routes', 'state', 'zipcode']\n",
    "station_info_types = {'abbr': VARCHAR(4),\n",
    "                      'address': VARCHAR(256),\n",
    "                      'attraction': VARCHAR(512),\n",
    "                      'city': VARCHAR(256),\n",
    "                      'county': VARCHAR(256), \n",
    "                      'cross_street': VARCHAR(256),\n",
    "                      'food': VARCHAR(512),\n",
    "                      'gtfs_latitude': FLOAT, \n",
    "                      'gtfs_longitude': FLOAT,\n",
    "                      'intro': VARCHAR(512),\n",
    "                      'link': VARCHAR(256),\n",
    "                      'name': VARCHAR(256),\n",
    "                      'platform_info': VARCHAR(512),\n",
    "                      'shopping': VARCHAR(256),\n",
    "                      'state': VARCHAR(256),\n",
    "                      'zipcode': VARCHAR(256)}\n",
    "\n",
    "all_stations = pd.DataFrame(columns = station_info_column_names)\n",
    "\n",
    "for i,orig in enumerate(stations['abbr']):\n",
    "    try:\n",
    "        rest_url = \"http://api.bart.gov/api/stn.aspx?cmd=stninfo&orig=%s&key=MW9S-E7SL-26DU-VV8V&json=y\" % (orig)\n",
    "        response = requests.post(rest_url)\n",
    "        response_json = json.loads(response.content)\n",
    "        station_info = pd.io.json.json_normalize(response_json['root']['stations']['station'])\n",
    "        station_info.columns = station_info_column_names\n",
    "\n",
    "        all_stations = pd.concat([all_stations, station_info])\n",
    "    except:\n",
    "        print(i,orig)\n",
    "\n",
    "all_stations.loc[:,station_info_columns].reset_index(drop=True).to_sql('station_info',engine,if_exists='replace', dtype=station_info_types)"
   ]
  },
  {
   "cell_type": "code",
   "execution_count": null,
   "metadata": {},
   "outputs": [],
   "source": [
    "c = 'north_routes'\n",
    "all_stations.set_index('abbr')[c].apply(pd.Series).stack().reset_index(level=0).rename(columns={0:'route'}).reset_index(drop=True)"
   ]
  },
  {
   "cell_type": "code",
   "execution_count": null,
   "metadata": {},
   "outputs": [],
   "source": [
    "# \n",
    "rest_url = \"http://api.bart.gov/api/route.aspx?cmd=routeinfo&route=1&key=MW9S-E7SL-26DU-VV8V&json=y\"\n",
    "response = requests.post(rest_url)\n",
    "response_json = json.loads(response.content)\n",
    "trains = pd.io.json.json_normalize(response_json['root']['routes']['route'])\n",
    "trains.head()"
   ]
  },
  {
   "cell_type": "markdown",
   "metadata": {},
   "source": [
    "# Real Time Queries"
   ]
  },
  {
   "cell_type": "code",
   "execution_count": null,
   "metadata": {},
   "outputs": [],
   "source": [
    "# train count\n",
    "rest_url = \"http://api.bart.gov/api/bsa.aspx?cmd=count&key=MW9S-E7SL-26DU-VV8V&json=y\"\n",
    "response = requests.post(rest_url)\n",
    "response_json = json.loads(response.content)\n",
    "trains = pd.io.json.json_normalize(response_json['root'])\n",
    "\n",
    "trains['timestamp'] = pd.to_datetime(trains['date'] + ' ' + trains['time'])\n",
    "train_count_dtypes = {'timestamp':DATETIME,\n",
    "                      'message':VARCHAR(256),\n",
    "                      'traincount':INTEGER,}\n",
    "\n",
    "trains.loc[:,train_count_dtypes.keys()].to_sql('train_count',\n",
    "                                               engine,\n",
    "                                               dtype=train_count_dtypes,\n",
    "                                               index=False,\n",
    "                                               if_exists='append')"
   ]
  },
  {
   "cell_type": "code",
   "execution_count": null,
   "metadata": {},
   "outputs": [],
   "source": [
    "# etd\n",
    "rest_url = \"http://api.bart.gov/api/etd.aspx?cmd=etd&orig=daly&key=MW9S-E7SL-26DU-VV8V&json=y\"\n",
    "response = requests.post(rest_url)\n",
    "response_json = json.loads(response.content)\n",
    "raw_etd = pd.io.json.json_normalize(response_json['root']['station'][0]['etd'])\n",
    "\n",
    "\n",
    "etd = pd.DataFrame()\n",
    "\n",
    "for i,r in raw_etd.iterrows():\n",
    "    dest_etd = pd.concat([pd.io.json.json_normalize(est) for est in r['estimate']])\n",
    "    for c in r.index:\n",
    "        if c!='estimate':\n",
    "            dest_etd[c] = r[c]\n",
    "    etd = pd.concat([etd,dest_etd])\n",
    "etd"
   ]
  },
  {
   "cell_type": "markdown",
   "metadata": {},
   "source": [
    "# Trains Entering System"
   ]
  },
  {
   "cell_type": "code",
   "execution_count": null,
   "metadata": {},
   "outputs": [
    {
     "name": "stdout",
     "output_type": "stream",
     "text": [
      "BALB 07/30/2019 12:20:45 AM PDT\n",
      "CAST 07/30/2019 12:20:45 AM PDT\n",
      "DELN 07/30/2019 12:20:45 AM PDT\n",
      "NCON 07/30/2019 12:20:45 AM PDT\n",
      "UCTY 07/30/2019 12:20:45 AM PDT\n"
     ]
    }
   ],
   "source": [
    "# full list of pairs to check\n",
    "orig_list = ['BALB','CAST','DELN','NCON','UCTY']\n",
    "orig_dest_pairs = [('BALB', 'ANTC'), ('BALB', 'DUBL'), ('BALB', 'RICH'), ('BALB', 'WARM'), \n",
    "                   ('CAST', 'BAYF'), ('CAST', 'DALY'), \n",
    "                   ('DELN', 'BAYF'), ('DELN', 'MLBR'), ('DELN', 'WARM'), \n",
    "                   ('NCON', 'BAYF'), ('NCON', 'MLBR'), \n",
    "                   ('UCTY', 'DALY'), ('UCTY', 'MLBR'), ('UCTY', 'RICH'), ('UCTY', 'SFIA')]\n",
    "\n",
    "# Empty data frame for the final list of train estimates\n",
    "df_estimates = pd.DataFrame({\n",
    "                                'queried_at':  [],\n",
    "                                'orig':        [],\n",
    "                                'dest':        [],\n",
    "                                # 'origin':      [],\n",
    "                                # 'destination': [],\n",
    "                                'direction':   [],\n",
    "                                'minutes':     [],\n",
    "                                'length':      [],\n",
    "                                'platform':    [],\n",
    "                                'color':       [],\n",
    "                                'hexcolor':    [],\n",
    "                                'limited':     [],\n",
    "                                'delay':       [],\n",
    "                                'bikeflag':    [],\n",
    "                            })\n",
    "estimate_time_of_departure_dtypes = {\n",
    "                                'queried_at':  TIMESTAMP,\n",
    "                                'orig':        VARCHAR(4),\n",
    "                                'dest':        VARCHAR(4),\n",
    "                                # 'origin':      VARCHAR(64),\n",
    "                                # 'destination': VARCHAR(64),\n",
    "                                'direction':   VARCHAR(64),\n",
    "                                'minutes':     INTEGER,\n",
    "                                'length':      INTEGER,\n",
    "                                'platform':    INTEGER,\n",
    "                                'color':       VARCHAR(16),\n",
    "                                'hexcolor':    VARCHAR(8),\n",
    "                                'limited':     INTEGER,\n",
    "                                'delay':       INTEGER,\n",
    "                                'bikeflag':    INTEGER,\n",
    "                            }\n",
    "\n",
    "for orig in orig_list:\n",
    "    print(orig, end=' ')\n",
    "\n",
    "    rest_url = 'http://api.bart.gov/api/etd.aspx?cmd=etd&orig=%s&key=MW9S-E7SL-26DU-VV8V&json=y' % (orig)\n",
    "    response = requests.post(rest_url)\n",
    "    response_json = json.loads(response.content)\n",
    "    timestamp_str = (response_json['root']['date'] + ' ' + response_json['root']['time'])\n",
    "#     dt_queried_at = dt.datetime.strptime(timestamp_str,'%m/%d/%Y %I:%M:%S %p %Z')\n",
    "    dt_queried_at = dp.parse(timestamp_str)\n",
    "    print(timestamp_str)\n",
    "    \n",
    "    df_orig = json_normalize(response_json['root']['station'])\n",
    "    try:\n",
    "        df_dest = json_normalize(df_orig['etd'][0])\n",
    "    except:\n",
    "        continue\n",
    "\n",
    "    # flatten json to append to df_est\n",
    "    for i,d in df_dest.iterrows():\n",
    "        df_this_est = json_normalize(d['estimate'])\n",
    "\n",
    "        df_this_est['queried_at'] = dt_queried_at\n",
    "        df_this_est['orig'] = df_orig.loc[0,'abbr']\n",
    "        # df_this_est['origin'] = df_orig.loc[0,'name']\n",
    "        df_this_est['dest'] = d['abbreviation']\n",
    "        # df_this_est['destination'] = d['destination']\n",
    "        df_this_est['limited'] = d['limited']\n",
    "\n",
    "        # only keep the nearest train\n",
    "        drop_idx = df_this_est.index[df_this_est['minutes'] > df_this_est['minutes'].min()]\n",
    "\n",
    "        df_estimates = pd.concat([df_estimates, \n",
    "                                  df_this_est.drop(drop_idx)], \n",
    "                                 sort=False\n",
    "                                ).reset_index(drop=True)\n",
    "\n",
    "df_estimates.to_sql('estimate_time_of_departure',\n",
    "                    engine,\n",
    "                    index=False,\n",
    "                    dtype=estimate_time_of_departure_dtypes,\n",
    "                    if_exists='append')"
   ]
  },
  {
   "cell_type": "code",
   "execution_count": null,
   "metadata": {},
   "outputs": [],
   "source": [
    "df_estimates"
   ]
  },
  {
   "cell_type": "code",
   "execution_count": null,
   "metadata": {},
   "outputs": [],
   "source": []
  }
 ],
 "metadata": {
  "kernelspec": {
   "display_name": "Python 3",
   "language": "python",
   "name": "python3"
  },
  "language_info": {
   "codemirror_mode": {
    "name": "ipython",
    "version": 3
   },
   "file_extension": ".py",
   "mimetype": "text/x-python",
   "name": "python",
   "nbconvert_exporter": "python",
   "pygments_lexer": "ipython3",
   "version": "3.7.3"
  }
 },
 "nbformat": 4,
 "nbformat_minor": 2
}
