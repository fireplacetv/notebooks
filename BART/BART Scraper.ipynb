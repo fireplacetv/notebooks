{
 "cells": [
  {
   "cell_type": "code",
   "execution_count": null,
   "metadata": {
    "collapsed": true
   },
   "outputs": [],
   "source": [
    "# Imports\n",
    "import pandas as pd\n",
    "import numpy as np\n",
    "import requests\n",
    "import json\n",
    "from matplotlib import pyplot as plt"
   ]
  },
  {
   "cell_type": "code",
   "execution_count": null,
   "metadata": {},
   "outputs": [],
   "source": [
    "import sqlalchemy\n",
    "from sqlalchemy import create_engine\n",
    "import pymysql"
   ]
  },
  {
   "cell_type": "markdown",
   "metadata": {},
   "source": [
    "# Load Train Locations"
   ]
  },
  {
   "cell_type": "code",
   "execution_count": null,
   "metadata": {},
   "outputs": [],
   "source": [
    "'http://api.bart.gov/api/etd.aspx?cmd=etd&orig=BALB&key=MW9S-E7SL-26DU-VV8V#'"
   ]
  },
  {
   "cell_type": "code",
   "execution_count": null,
   "metadata": {},
   "outputs": [],
   "source": [
    "# etd\n",
    "rest_url = \"http://api.bart.gov/api/etd.aspx?cmd=etd&orig=mont&key=MW9S-E7SL-26DU-VV8V&json=y\"\n",
    "response = requests.post(rest_url)\n",
    "response_json = json.loads(response.content)\n",
    "raw_etd = pd.io.json.json_normalize(response_json['root']['station'][0]['etd'])\n",
    "\n",
    "\n",
    "etd = pd.DataFrame()\n",
    "\n",
    "for i,r in raw_etd.iterrows():\n",
    "    dest_etd = pd.concat([pd.io.json.json_normalize(est) for est in r['estimate']])\n",
    "    for c in r.index:\n",
    "        if c!='estimate':\n",
    "            dest_etd[c] = r[c]\n",
    "    etd = pd.concat([etd,dest_etd])\n",
    "etd"
   ]
  },
  {
   "cell_type": "markdown",
   "metadata": {},
   "source": [
    "# Connect to RDS"
   ]
  },
  {
   "cell_type": "code",
   "execution_count": null,
   "metadata": {},
   "outputs": [],
   "source": [
    "credentials = {}\n",
    "with open('credentials.json') as json_data:\n",
    "    credentials = json.load(json_data)\n",
    "\n",
    "connection_url = sqlalchemy.engine.url.URL(\n",
    "    'mysql+pymysql',\n",
    "    username=credentials['username'],\n",
    "    password=credentials['password'],\n",
    "    host=credentials['host'],\n",
    "    port=credentials['port'],\n",
    "    database=credentials['database'])\n",
    "print(connection_url)\n",
    "engine=create_engine(connection_url)\n",
    "engine.connect()"
   ]
  },
  {
   "cell_type": "code",
   "execution_count": null,
   "metadata": {
    "collapsed": true
   },
   "outputs": [],
   "source": [
    "result = engine.execute('select count(*) from fireplacedb.train_observations limit 10;')\n",
    "result"
   ]
  },
  {
   "cell_type": "code",
   "execution_count": null,
   "metadata": {},
   "outputs": [],
   "source": [
    "for row in result:\n",
    "    print(row)"
   ]
  },
  {
   "cell_type": "code",
   "execution_count": null,
   "metadata": {},
   "outputs": [],
   "source": []
  }
 ],
 "metadata": {
  "kernelspec": {
   "display_name": "Python 3",
   "language": "python",
   "name": "python3"
  },
  "language_info": {
   "codemirror_mode": {
    "name": "ipython",
    "version": 3
   },
   "file_extension": ".py",
   "mimetype": "text/x-python",
   "name": "python",
   "nbconvert_exporter": "python",
   "pygments_lexer": "ipython3",
   "version": "3.7.3"
  }
 },
 "nbformat": 4,
 "nbformat_minor": 2
}
